{
 "cells": [
  {
   "cell_type": "code",
   "execution_count": null,
   "metadata": {},
   "outputs": [],
   "source": [
    "import cv2\n",
    "import numpy as np\n",
    "\n",
    "cap = cv2.VideoCapture(0)\n",
    "\n",
    "while(1):\n",
    "    \n",
    "    _, frame = cap.read()\n",
    "    \n",
    "    hsv = cv2.cvtColor(frame, cv2.COLOR_BGR2HSV)\n",
    "    \n",
    "    l_r = np.array([30, 150, 50])\n",
    "    u_r = np.array([255, 255, 255])\n",
    "    \n",
    "    mask = cv2.inRange(hsv, l_r, u_r)\n",
    "    res = cv2.bitwise_and(frame, frame, mask = mask)\n",
    "    \n",
    "    kernel = np.ones((5,5), np.uint8)\n",
    "    \n",
    "    erosion = cv2.erode(mask, kernel, iterations = 1)\n",
    "    \n",
    "    dilation = cv2.dilate(mask, kernel, iterations = 1)\n",
    "    \n",
    "    cv2.imshow(\"Original\", frame)\n",
    "    cv2.imshow(\"Mask\", mask)\n",
    "    cv2.imshow(\"Erosion\", erosion)\n",
    "    cv2.imshow(\"Dilation\", dilation)\n",
    "    \n",
    "    k = cv2.waitKey(5) & 0xFF \n",
    "    if k == 27:\n",
    "        break\n",
    "\n",
    "cv2.destroyAllWindows()\n",
    "cap.release()"
   ]
  },
  {
   "cell_type": "code",
   "execution_count": null,
   "metadata": {},
   "outputs": [],
   "source": []
  }
 ],
 "metadata": {
  "kernelspec": {
   "display_name": "Python 3",
   "language": "python",
   "name": "python3"
  },
  "language_info": {
   "codemirror_mode": {
    "name": "ipython",
    "version": 3
   },
   "file_extension": ".py",
   "mimetype": "text/x-python",
   "name": "python",
   "nbconvert_exporter": "python",
   "pygments_lexer": "ipython3",
   "version": "3.6.5"
  }
 },
 "nbformat": 4,
 "nbformat_minor": 2
}

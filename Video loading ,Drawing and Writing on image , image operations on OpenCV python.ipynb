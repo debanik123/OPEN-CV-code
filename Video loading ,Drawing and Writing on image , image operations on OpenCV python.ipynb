{
 "cells": [
  {
   "cell_type": "code",
   "execution_count": null,
   "metadata": {},
   "outputs": [],
   "source": [
    "import cv2\n",
    "import numpy as np\n",
    "cap = cv2.VideoCapture(0)\n",
    "fourcc = cv2.VideoWriter_fourcc(*\"XVID\")\n",
    "out = cv2.VideoWriter(\"d.avi\",fourcc,20.0, (640,480))\n",
    "\n",
    "while True:\n",
    "    ret, frame = cap.read()\n",
    "    gray = cv2.cvtColor(frame, cv2.COLOR_BGR2GRAY)     #convert image colour to gray image\n",
    "    cv2.imshow(\"frame\",frame)\n",
    "    cv2.imshow(\"gray\", gray)\n",
    "    if cv2.waitKey(1) & 0xFF == ord(\"q\"):\n",
    "        break\n",
    "cap.release()\n",
    "out.release()\n",
    "cv2.destroyAllWindows()"
   ]
  },
  {
   "cell_type": "code",
   "execution_count": 1,
   "metadata": {},
   "outputs": [],
   "source": [
    "import numpy as np\n",
    "import cv2\n",
    "img = cv2.imread(\"de.jpg\", cv2.IMREAD_COLOR)\n",
    "cv2.line(img, (0,0), (150,150), (255,255,255), 15) #first two co-ordinate are show seted distance 3erd is shows bgr  and 4th is shows width \n",
    "cv2.rectangle(img, (15,25), (200,150), (0,255,0), 8)\n",
    "cv2.circle(img, (100,63), 55, (0,0,255), 2) #radius = 55\n",
    "pts = np.array([[10,5],[20,30],[70,20],[50,10]], np.int32)\n",
    "cv2.polylines(img, [pts], True, (0,255,255), 5)\n",
    "f = cv2.FONT_HERSHEY_SIMPLEX\n",
    "cv2.putText(img, \"Dj Deba OPEN CV!!\", (0,180), f, 1, (200,255,255),1,cv2.LINE_AA)\n",
    "cv2.imshow(\"image\", img)\n",
    "cv2.waitKey(0)\n",
    "cv2.destroyAllWindows()"
   ]
  },
  {
   "cell_type": "code",
   "execution_count": 2,
   "metadata": {},
   "outputs": [],
   "source": [
    "import numpy as np\n",
    "import cv2\n",
    "img = cv2.imread(\"de.jpg\", cv2.IMREAD_COLOR)\n",
    "\n",
    "img[55,55] = [255, 255, 255]\n",
    "px = img[55,55]\n",
    "\n",
    "img[100:150, 100:150] = [255,255,255]\n",
    "\n",
    "watch_face = img[37:111, 107:194]\n",
    "\n",
    "img[0:74, 0:87] = watch_face\n",
    "cv2.imshow(\"image\",img)\n",
    "cv2.waitKey(0)\n",
    "cv2.destroyAllWindows()\n",
    "\n"
   ]
  },
  {
   "cell_type": "code",
   "execution_count": 4,
   "metadata": {},
   "outputs": [],
   "source": []
  },
  {
   "cell_type": "code",
   "execution_count": null,
   "metadata": {},
   "outputs": [],
   "source": []
  }
 ],
 "metadata": {
  "kernelspec": {
   "display_name": "Python 3",
   "language": "python",
   "name": "python3"
  },
  "language_info": {
   "codemirror_mode": {
    "name": "ipython",
    "version": 3
   },
   "file_extension": ".py",
   "mimetype": "text/x-python",
   "name": "python",
   "nbconvert_exporter": "python",
   "pygments_lexer": "ipython3",
   "version": "3.6.5"
  }
 },
 "nbformat": 4,
 "nbformat_minor": 2
}

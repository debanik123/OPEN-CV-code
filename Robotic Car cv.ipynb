{
 "cells": [
  {
   "cell_type": "code",
   "execution_count": null,
   "metadata": {},
   "outputs": [],
   "source": []
  },
  {
   "cell_type": "code",
   "execution_count": null,
   "metadata": {},
   "outputs": [],
   "source": [
    "import cv2\n",
    "import numpy as np\n",
    "\n",
    "rangeMin = np.array([42,62,63], np.uint8)\n",
    "rangeMax = np.array([92,255,235], np.uint8)\n",
    "\n",
    "\n",
    "minArea = 50\n",
    "\n",
    "cap = cv2.VideoCapture(0)\n",
    "\n",
    "width = 160\n",
    "height = 120\n",
    "\n",
    "if cap.isOpened():\n",
    "    cap.set(cv2.CAP_PROP_FRAME_WIDTH, width)\n",
    "    cap.set(cv2.CAP_PROP_FRAME_HEIGHT, height)\n",
    "\n",
    "\n",
    "\n",
    "while True:\n",
    "    \n",
    "    _, frame = cap.read()\n",
    "    hsv = cv2.cvtColor(frame, cv2.COLOR_BGR2HSV)\n",
    "    gray = cv2.cvtColor(frame, cv2.COLOR_BGR2GRAY)\n",
    "    imgThresh = cv2.inRange(hsv, rangeMin, rangeMax)\n",
    "    imgErode = cv2.erode(imgThresh, None, iterations = 3)\n",
    "    moments = cv2.moments(imgErode, True)\n",
    "    \n",
    "    if moments[\"m00\"] >= minArea:\n",
    "        x = moments[\"m10\"] / moments[\"m00\"]\n",
    "        y = moments[\"m01\"] / moments[\"m00\"]\n",
    "        print(x,\",\",y)\n",
    "        cv2.circle(frame, (int(x), int(y)), 5, (0, 255, 0), -1)\n",
    "    cv2.imshow(\"frame\", frame)\n",
    "    cv2.imshow(\"HSV\", hsv)\n",
    "    cv2.imshow(\"Thre\", imgThresh)\n",
    "    cv2.imshow(\"Erosao\", imgErode)\n",
    "    k = cv2.waitKey(5) & 0xFF\n",
    "    if k== 27:\n",
    "        break\n",
    "cv2.destroyAllWindows()\n",
    "cap.release()\n",
    "    \n",
    "    \n",
    "    "
   ]
  },
  {
   "cell_type": "code",
   "execution_count": null,
   "metadata": {},
   "outputs": [],
   "source": []
  },
  {
   "cell_type": "code",
   "execution_count": null,
   "metadata": {},
   "outputs": [],
   "source": []
  }
 ],
 "metadata": {
  "kernelspec": {
   "display_name": "Python 3",
   "language": "python",
   "name": "python3"
  },
  "language_info": {
   "codemirror_mode": {
    "name": "ipython",
    "version": 3
   },
   "file_extension": ".py",
   "mimetype": "text/x-python",
   "name": "python",
   "nbconvert_exporter": "python",
   "pygments_lexer": "ipython3",
   "version": "3.6.5"
  }
 },
 "nbformat": 4,
 "nbformat_minor": 2
}
